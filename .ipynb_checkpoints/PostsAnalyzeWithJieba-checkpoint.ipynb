{
 "cells": [
  {
   "cell_type": "code",
   "execution_count": 1,
   "metadata": {},
   "outputs": [],
   "source": [
    "import json\n",
    "import pandas as pd\n",
    "import jieba\n",
    "import operator"
   ]
  },
  {
   "cell_type": "code",
   "execution_count": 2,
   "metadata": {
    "scrolled": true
   },
   "outputs": [],
   "source": [
    "file =\"Cdata.json\"\n",
    "with open(file, 'r', encoding='utf-8') as obj:\n",
    "    data = json.load(obj)"
   ]
  },
  {
   "cell_type": "code",
   "execution_count": 4,
   "metadata": {
    "scrolled": true
   },
   "outputs": [
    {
     "name": "stderr",
     "output_type": "stream",
     "text": [
      "Building prefix dict from C:\\Users\\tina0_000\\Desktop\\social network HW\\Final\\dict.txt.big ...\n",
      "Loading model from cache C:\\Users\\TINA0_~1\\AppData\\Local\\Temp\\jieba.u0d1d63ec01657028e0a691e9143340a5.cache\n",
      "Loading model cost 3.398 seconds.\n",
      "Prefix dict has been built successfully.\n",
      "Building prefix dict from C:\\Users\\tina0_000\\Desktop\\social network HW\\Final\\dict.txt.big ...\n",
      "Loading model from cache C:\\Users\\TINA0_~1\\AppData\\Local\\Temp\\jieba.u0d1d63ec01657028e0a691e9143340a5.cache\n",
      "Loading model cost 3.237 seconds.\n",
      "Prefix dict has been built successfully.\n",
      "Building prefix dict from C:\\Users\\tina0_000\\Desktop\\social network HW\\Final\\dict.txt.big ...\n",
      "Loading model from cache C:\\Users\\TINA0_~1\\AppData\\Local\\Temp\\jieba.u0d1d63ec01657028e0a691e9143340a5.cache\n",
      "Loading model cost 3.423 seconds.\n",
      "Prefix dict has been built successfully.\n",
      "Building prefix dict from C:\\Users\\tina0_000\\Desktop\\social network HW\\Final\\dict.txt.big ...\n",
      "Loading model from cache C:\\Users\\TINA0_~1\\AppData\\Local\\Temp\\jieba.u0d1d63ec01657028e0a691e9143340a5.cache\n",
      "Loading model cost 3.372 seconds.\n",
      "Prefix dict has been built successfully.\n",
      "Building prefix dict from C:\\Users\\tina0_000\\Desktop\\social network HW\\Final\\dict.txt.big ...\n",
      "Loading model from cache C:\\Users\\TINA0_~1\\AppData\\Local\\Temp\\jieba.u0d1d63ec01657028e0a691e9143340a5.cache\n",
      "Loading model cost 3.278 seconds.\n",
      "Prefix dict has been built successfully.\n",
      "Building prefix dict from C:\\Users\\tina0_000\\Desktop\\social network HW\\Final\\dict.txt.big ...\n",
      "Loading model from cache C:\\Users\\TINA0_~1\\AppData\\Local\\Temp\\jieba.u0d1d63ec01657028e0a691e9143340a5.cache\n",
      "Loading model cost 3.230 seconds.\n",
      "Prefix dict has been built successfully.\n",
      "Building prefix dict from C:\\Users\\tina0_000\\Desktop\\social network HW\\Final\\dict.txt.big ...\n",
      "Loading model from cache C:\\Users\\TINA0_~1\\AppData\\Local\\Temp\\jieba.u0d1d63ec01657028e0a691e9143340a5.cache\n",
      "Loading model cost 3.250 seconds.\n",
      "Prefix dict has been built successfully.\n",
      "Building prefix dict from C:\\Users\\tina0_000\\Desktop\\social network HW\\Final\\dict.txt.big ...\n",
      "Loading model from cache C:\\Users\\TINA0_~1\\AppData\\Local\\Temp\\jieba.u0d1d63ec01657028e0a691e9143340a5.cache\n",
      "Loading model cost 3.253 seconds.\n",
      "Prefix dict has been built successfully.\n",
      "Building prefix dict from C:\\Users\\tina0_000\\Desktop\\social network HW\\Final\\dict.txt.big ...\n",
      "Loading model from cache C:\\Users\\TINA0_~1\\AppData\\Local\\Temp\\jieba.u0d1d63ec01657028e0a691e9143340a5.cache\n",
      "Loading model cost 3.274 seconds.\n",
      "Prefix dict has been built successfully.\n",
      "Building prefix dict from C:\\Users\\tina0_000\\Desktop\\social network HW\\Final\\dict.txt.big ...\n",
      "Loading model from cache C:\\Users\\TINA0_~1\\AppData\\Local\\Temp\\jieba.u0d1d63ec01657028e0a691e9143340a5.cache\n",
      "Loading model cost 3.198 seconds.\n",
      "Prefix dict has been built successfully.\n"
     ]
    }
   ],
   "source": [
    "Result = {}\n",
    "Result_List = []\n",
    "for INDEX in range(10):\n",
    "    jieba.set_dictionary(\"dict.txt.big\")\n",
    "    words = jieba.cut((list(data.values())[INDEX]),cut_all=False)\n",
    "    break_words=[]\n",
    "    for j in words:\n",
    "        break_words.append(j)\n",
    "        \n",
    "    stopwords=[]\n",
    "    for word in open('stopwords.txt','r',encoding='utf-8-sig'):\n",
    "        stopwords.append(word.strip())\n",
    "        \n",
    "    del_stopwords=[]\n",
    "    for k in break_words:\n",
    "        if k not in stopwords:\n",
    "            del_stopwords.append(k)\n",
    "    \n",
    "    #抽取漢字，過濾無意義之符號\n",
    "    df = pd.DataFrame(del_stopwords)\n",
    "    data_clean=df[df[0].str.match('^[\\u4e00-\\u9fa5]{0,}$')]\n",
    "    data_clean.columns=['words']\n",
    "    data_clean=data_clean[data_clean.words!='\\n']\n",
    "    kk=[]\n",
    "    for i in range(len(data_clean)):\n",
    "        kk.append(data_clean.values[i][0])\n",
    "    \n",
    "    #詞頻統計\n",
    "    word_count = dict()\n",
    "    for word in kk:\n",
    "        if word in word_count.keys():\n",
    "            word_count[word]+=1\n",
    "        else:\n",
    "            word_count[word]=1\n",
    "        sorted_wc=sorted(word_count.items(),key=operator.itemgetter(1),reverse=True)\n",
    "    \n",
    "    \n",
    "    Result[list(data.keys())[INDEX]] = sorted_wc\n",
    "    \n",
    "    Result_List.append(Result)"
   ]
  },
  {
   "cell_type": "code",
   "execution_count": 6,
   "metadata": {},
   "outputs": [],
   "source": [
    "with open('JiebaData.json', mode='a', encoding='utf-8')as file:\n",
    "    json.dump(Result_List, file, ensure_ascii=False)"
   ]
  },
  {
   "cell_type": "code",
   "execution_count": null,
   "metadata": {},
   "outputs": [],
   "source": []
  }
 ],
 "metadata": {
  "kernelspec": {
   "display_name": "Python 3",
   "language": "python",
   "name": "python3"
  },
  "language_info": {
   "codemirror_mode": {
    "name": "ipython",
    "version": 3
   },
   "file_extension": ".py",
   "mimetype": "text/x-python",
   "name": "python",
   "nbconvert_exporter": "python",
   "pygments_lexer": "ipython3",
   "version": "3.7.4"
  }
 },
 "nbformat": 4,
 "nbformat_minor": 2
}
